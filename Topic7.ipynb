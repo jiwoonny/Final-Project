{
 "cells": [
  {
   "cell_type": "markdown",
   "metadata": {},
   "source": [
    "# **Basic Data Science Projects using Python, NumPy, Pandas, Matplotlib, Regular Expressions, and SQL**"
   ]
  },
  {
   "cell_type": "markdown",
   "metadata": {},
   "source": [
    "<center>\n",
    "\n",
    "*By: Prof. James Abello, Haoyang Zhang*\n",
    "\n",
    "*Computer Science Department*\n",
    "\n",
    "*Rutgers University*\n",
    "\n",
    "*Nov. 21, 2024.*\n",
    "\n",
    "</center>"
   ]
  },
  {
   "cell_type": "markdown",
   "metadata": {},
   "source": [
    "## Topic 7: Leet Speak (regular expressions)"
   ]
  },
  {
   "cell_type": "markdown",
   "metadata": {},
   "source": [
    "#### **Objective:** Translate English text to Leet Speak and vice versa using regular expressions.\n",
    "\n",
    "#### **Estimated Completion Time: 5 hours**\n",
    "\n",
    "Leet (or \"1337\") speak is a language that uses various combinations of characters to replace Latin letters. For example, the word \"leet\" is written as \"1337\" in leet speak.\n",
    "\n",
    "In this project, you will write a Python program to:\n",
    "\n",
    "- Encode a given string into leet speak by replacing certain letters with their corresponding leet speak characters.\n",
    "- Decode a leet speak string back to the original string by reversing the substitutions."
   ]
  },
  {
   "cell_type": "markdown",
   "metadata": {},
   "source": [
    "A good reference is:\n",
    "\n",
    "> L33t sp34k ch34t sh33t by Roald Craenen\n",
    "> \n",
    "> https://www.gamehouse.com/blog/leet-speak-cheat-sheet/"
   ]
  },
  {
   "cell_type": "markdown",
   "metadata": {},
   "source": [
    "#### Level 1"
   ]
  },
  {
   "cell_type": "markdown",
   "metadata": {},
   "source": [
    "In this level, we will focus on a basic one-to-one mapping of characters without ambiguity. The mapping is as follows:\n",
    "\n",
    "| Latin | Leet |\n",
    "|-------|------|\n",
    "| A     | 4    |\n",
    "| B     | 8    |\n",
    "| C     | (    |\n",
    "| D     | )    |\n",
    "| E     | 3    |\n",
    "| F     | ƒ    |\n",
    "| G     | 6    |\n",
    "| H     | #    |\n",
    "| I     | !    |\n",
    "| J     | ]    |\n",
    "| K     | \\|   |\n",
    "| L     | 1    |\n",
    "| M     | м    |\n",
    "| N     | и    |\n",
    "| O     | Ø    |\n",
    "| P     | 9    |\n",
    "| Q     | 2    |\n",
    "| R     | Я    |\n",
    "| S     | 5    |\n",
    "| T     | 7    |\n",
    "| U     | µ    |\n",
    "| V     | √    |\n",
    "| W     | ω    |\n",
    "| X     | Ж    |\n",
    "| Y     | ¥    |\n",
    "| Z     | %    |\n",
    "\n",
    "Note: this version does not map any characters to latin letters."
   ]
  },
  {
   "cell_type": "markdown",
   "metadata": {},
   "source": [
    "##### Task 1.1"
   ]
  },
  {
   "cell_type": "markdown",
   "metadata": {},
   "source": [
    "Write a Python function `encode_all_1()` that takes a string as input and encodes all Latin letters to leet speak using the mapping above.\n",
    "\n",
    "You can assume that the input text contains only uppercase Latin letters, lowercase Latin letters, and spaces."
   ]
  },
  {
   "cell_type": "markdown",
   "metadata": {},
   "source": [
    "```python\n",
    "def encode_all_1(text):\n",
    "    \"\"\"\n",
    "    Encode all Latin letters to leet speak\n",
    "    IN: text, str, input text\n",
    "    OUT: str, leet speak text\n",
    "    \"\"\"\n",
    "    i = 5\n",
    "    pass\n",
    "```"
   ]
  },
  {
   "cell_type": "markdown",
   "metadata": {},
   "source": [
    "##### Task 1.2"
   ]
  },
  {
   "cell_type": "markdown",
   "metadata": {},
   "source": [
    "Write a Python function `decode_all_1()` to reverse the operation of `encode_all_1()`.\n",
    "\n",
    "You may assume that the final text contains only uppercase Latin letters, lowercase Latin letters, and spaces."
   ]
  },
  {
   "cell_type": "markdown",
   "metadata": {},
   "source": [
    "```python\n",
    "def decode_all_1(text):\n",
    "    \"\"\"\n",
    "    Decode all leet speak to Latin letters\n",
    "    IN: text, str, leet speak text\n",
    "    OUT: str, Latin letters text\n",
    "    \"\"\"\n",
    "    pass\n",
    "```"
   ]
  },
  {
   "cell_type": "markdown",
   "metadata": {},
   "source": [
    "##### Task 1.3"
   ]
  },
  {
   "cell_type": "markdown",
   "metadata": {},
   "source": [
    "Write a Python function `encode_partially_1()` that takes a string and a number `p` between 0 and 1 as input, and encodes each Latin letter to leet speak with probability `p`.\n",
    "\n",
    "For example, if `p = 0.5`, then each Latin letter has a 50% chance of being encoded to leet speak."
   ]
  },
  {
   "cell_type": "markdown",
   "metadata": {},
   "source": [
    "```python\n",
    "def encode_partially_1(text, p):\n",
    "    \"\"\"\n",
    "    Encode each Latin letter to leet speak with probability p\n",
    "    IN: text, str, input text\n",
    "        p, float, probability of encoding\n",
    "    OUT: str, partially encoded text\n",
    "    \"\"\"\n",
    "    pass\n",
    "```"
   ]
  },
  {
   "cell_type": "markdown",
   "metadata": {},
   "source": [
    "##### Task 1.4"
   ]
  },
  {
   "cell_type": "markdown",
   "metadata": {},
   "source": [
    "Write a Python function `decode_partially_1()` to reverse the operation of `encode_partially_1()`. \n",
    "\n",
    "Observation: Any Latin letter can be \"decoded\" as it is, since this version of leet speak does not map any character back to a Latin letter."
   ]
  },
  {
   "cell_type": "markdown",
   "metadata": {},
   "source": [
    "```python\n",
    "def decode_partially_1(text):\n",
    "    \"\"\"\n",
    "    Decode each Latin letter from leet speak\n",
    "    IN: text, str, partially encoded text\n",
    "    OUT: str, partially decoded text\n",
    "    \"\"\"\n",
    "    pass\n",
    "```"
   ]
  },
  {
   "cell_type": "markdown",
   "metadata": {},
   "source": [
    "#### Level 2"
   ]
  },
  {
   "cell_type": "markdown",
   "metadata": {},
   "source": [
    "In this level, users can define their own mapping of characters to leet speak as a JSON dictionary, ensuring no ambiguity (using a prefix-free code).\n",
    "\n",
    "A prefix-free code is a type of coding system in which **no code is the prefix of another code**. For example, if `C` is encoded as `(`, then no other character can be encoded as `(` or as a sequence of characters starting with `(`.\n",
    "\n",
    "There is a mathematical proof that **if a code is prefix-free, there is a unique way to decode the encoded text**. In other words, there is no ambiguity when decoding the encoded text.\n",
    "\n",
    "For example, the JSON dictionary for the basic mapping in Level 1 is:\n",
    "\n",
    "```json\n",
    "{\n",
    "    \"A\": [\"4\"],\n",
    "    \"B\": [\"8\"],\n",
    "    \"C\": [\"(\"],\n",
    "    \"D\": [\")\"],\n",
    "    \"E\": [\"3\"],\n",
    "    \"F\": [\"ƒ\"],\n",
    "    \"G\": [\"6\"],\n",
    "    \"H\": [\"#\"],\n",
    "    \"I\": [\"!\"],\n",
    "    \"J\": [\"]\"],\n",
    "    \"K\": [\"|\"],\n",
    "    \"L\": [\"1\"],\n",
    "    \"M\": [\"м\"],\n",
    "    \"N\": [\"и\"],\n",
    "    \"O\": [\"Ø\"],\n",
    "    \"P\": [\"9\"],\n",
    "    \"Q\": [\"2\"],\n",
    "    \"R\": [\"Я\"],\n",
    "    \"S\": [\"5\"],\n",
    "    \"T\": [\"7\"],\n",
    "    \"U\": [\"µ\"],\n",
    "    \"V\": [\"√\"],\n",
    "    \"W\": [\"ω\"],\n",
    "    \"X\": [\"Ж\"],\n",
    "    \"Y\": [\"¥\"],\n",
    "    \"Z\": [\"%\"]\n",
    "}\n",
    "```\n",
    "\n",
    "A more complex version that allows one Latin letter mapping to multiple leet speak characters or sequences of characters is:\n",
    "\n",
    "```json\n",
    "{\n",
    "    \"A\": [\"4\", \"@\", \"Д\"],\n",
    "    \"B\": [\"8\", \"ß\"],\n",
    "    \"C\": [\"(\", \"<\", \"©\", \"¢\"],\n",
    "    \"D\": [\")\", \">\"],\n",
    "    \"E\": [\"3\", \"£\"],\n",
    "    \"F\": [\"ƒ\"],\n",
    "    \"G\": [\"6\", \"&\"],\n",
    "    \"H\": [\"#\", \"|-|\"],\n",
    "    \"I\": [\"!\"],\n",
    "    \"J\": [\"]\", \"_|\"],\n",
    "    \"K\": [\"|<\"],\n",
    "    \"L\": [\"1\", \"|_\"],\n",
    "    \"M\": [\"м\", \"|\\/|\"],\n",
    "    \"N\": [\"и\", \"|\\\\|\"],\n",
    "    \"O\": [\"Ø\"],\n",
    "    \"P\": [\"9\", \"|°\"],\n",
    "    \"Q\": [\"2\"],\n",
    "    \"R\": [\"Я\", \"|~\"],\n",
    "    \"S\": [\"5\", \"$\", \"§\"],\n",
    "    \"T\": [\"7\", \"-|-\"],\n",
    "    \"U\": [\"µ\"],\n",
    "    \"V\": [\"√\"],\n",
    "    \"W\": [\"ω\", \"\\^/\"],\n",
    "    \"X\": [\"Ж\", \"×\"],\n",
    "    \"Y\": [\"¥\", \"γ\"],\n",
    "    \"Z\": [\"%\"]\n",
    "}\n",
    "```\n",
    "Notice The character `K` has been changed to `|<` instead of `|` to allow other characters to be mapped to a sequence starting with `|`."
   ]
  },
  {
   "cell_type": "markdown",
   "metadata": {},
   "source": [
    "##### Task 2.1"
   ]
  },
  {
   "cell_type": "markdown",
   "metadata": {},
   "source": [
    "Write a Python function `check_prefix_free_2()` that takes a JSON file name as input and checks if the JSON file specifies a prefix-free code."
   ]
  },
  {
   "cell_type": "markdown",
   "metadata": {},
   "source": [
    "```python\n",
    "def check_prefix_free_2(json_file):\n",
    "    \"\"\"\n",
    "    Check if the JSON file specifies a prefix-free code\n",
    "    IN: json_file, str, JSON file name\n",
    "    OUT: dict or None, dictionary of characters mapping to leet speak or None if not prefix-free\n",
    "    \"\"\"\n",
    "    pass\n",
    "```"
   ]
  },
  {
   "cell_type": "markdown",
   "metadata": {},
   "source": [
    "##### Task 2.2"
   ]
  },
  {
   "cell_type": "markdown",
   "metadata": {},
   "source": [
    "Write a Python function `encode_partially_2()` that takes a string and a number `p` between `0` and `1` as input and encodes each Latin letter to leet speak with probability `p` using the user-defined mapping. When a multiple mapping is possible, choose one randomly."
   ]
  },
  {
   "cell_type": "markdown",
   "metadata": {},
   "source": [
    "```python\n",
    "def encode_partially_2(text, p, mapping):\n",
    "    \"\"\"\n",
    "    Encode each Latin letter to leet speak with probability p using the user-defined mapping\n",
    "    IN: text, str, input text\n",
    "        p, float, probability of encoding\n",
    "        mapping, dict, user-defined mapping\n",
    "    OUT: str, partially encoded text\n",
    "    \"\"\"\n",
    "    pass\n",
    "```\n",
    "\n",
    "Or, you can create a constructor for `encode_partially_2()` that takes the mapping as an argument:\n",
    "\n",
    "```python\n",
    "def encode_partially_2(mapping):\n",
    "    \"\"\"\n",
    "    Constructor for encoding each Latin letter to leet speak with probability p using the user-defined mapping\n",
    "    IN: mapping, dict, user-defined mapping\n",
    "    OUT: function, (text: str, p: float) -> str, encode latin letters to leet speak with probability p\n",
    "    \"\"\"\n",
    "    # define the encoding function using the mapping\n",
    "    def encode_partially_2(text, p):\n",
    "        \"\"\"\n",
    "        Encode each Latin letter to leet speak with probability p using the user-defined mapping\n",
    "        IN: text, str, input text\n",
    "            p, float, probability of encoding\n",
    "        OUT: str, partially encoded text\n",
    "        \"\"\"\n",
    "        # specify the encoding logic using the mapping\n",
    "        pass\n",
    "\n",
    "    # return the encoding function\n",
    "    return encode_partially_2\n",
    "```"
   ]
  },
  {
   "cell_type": "markdown",
   "metadata": {},
   "source": [
    "##### Task 2.3"
   ]
  },
  {
   "cell_type": "markdown",
   "metadata": {},
   "source": [
    "Write a Python function `decode_partially_2()` to reverse the operation of `encode_partially_2()` using the user-defined mapping."
   ]
  },
  {
   "cell_type": "markdown",
   "metadata": {},
   "source": [
    "```python\n",
    "def decode_partially_2(text, mapping):\n",
    "    \"\"\"\n",
    "    Decode each Latin letter from leet speak using the user-defined mapping\n",
    "    IN: text, str, partially encoded text\n",
    "        mapping, dict, user-defined mapping\n",
    "    OUT: str, partially decoded text\n",
    "    \"\"\"\n",
    "    pass\n",
    "```\n",
    "\n",
    "Or, you can create a constructor for `decode_partially_2()` that takes the mapping as an argument:\n",
    "\n",
    "```python\n",
    "def decode_partially_2(mapping):\n",
    "    \"\"\"\n",
    "    Constructor for decoding each Latin letter from leet speak using the user-defined mapping\n",
    "    IN: mapping, dict, user-defined mapping\n",
    "    OUT: function, (text: str) -> str, decode latin letters from leet speak\n",
    "    \"\"\"\n",
    "    # define the decoding function using the mapping\n",
    "    def decode_partially_2(text):\n",
    "        \"\"\"\n",
    "        Decode each Latin letter from leet speak using the user-defined mapping\n",
    "        IN: text, str, partially encoded text\n",
    "        OUT: str, partially decoded text\n",
    "        \"\"\"\n",
    "        # specify the decoding logic using the mapping\n",
    "        pass\n",
    "\n",
    "    # return the decoding function\n",
    "    return decode_partially_2\n",
    "```"
   ]
  },
  {
   "cell_type": "markdown",
   "metadata": {},
   "source": [
    "#### Level 3"
   ]
  },
  {
   "cell_type": "markdown",
   "metadata": {},
   "source": [
    "In this level:\n",
    "- Words can be emphasized by adding the suffix \"-zorz\". For example, \"leet\" can be emphasized as \"leetzorz\" and further encoded to \"1337%or|~z\".\n",
    "- Users can define their own mapping, not only for single Latin letters but also for words, to leet speak without ambiguity (using a prefix-free code).\n",
    "\n",
    "For example: \n",
    "\n",
    "```json\n",
    "{\n",
    "    \"words\": {\n",
    "        \"real\": [\"٢٤٨١\"],\n",
    "        \"eye\": [\"٤٢٤\"],\n",
    "        \"age\": [\"٨٩٤\"],\n",
    "        \"euro\": [\"٤٧٢٥\"],\n",
    "        \"total\": [\"٢٥٢٨١\"]\n",
    "    },\n",
    "    \"letters\": {\n",
    "        \"A\": [\"4\", \"@\", \"Д\"],\n",
    "        \"B\": [\"8\", \"ß\"],\n",
    "        \"C\": [\"(\", \"<\", \"©\", \"¢\"],\n",
    "        \"D\": [\")\", \">\"],\n",
    "        \"E\": [\"3\", \"£\"],\n",
    "        \"F\": [\"ƒ\"],\n",
    "        \"G\": [\"6\", \"&\"],\n",
    "        \"H\": [\"#\", \"|-|\"],\n",
    "        \"I\": [\"!\"],\n",
    "        \"J\": [\"]\", \"_|\"],\n",
    "        \"K\": [\"|<\"],\n",
    "        \"L\": [\"1\", \"|_\"],\n",
    "        \"M\": [\"м\", \"|\\/|\"],\n",
    "        \"N\": [\"и\", \"|\\\\|\"],\n",
    "        \"O\": [\"Ø\"],\n",
    "        \"P\": [\"9\", \"|°\"],\n",
    "        \"Q\": [\"2\"],\n",
    "        \"R\": [\"Я\", \"|~\"],\n",
    "        \"S\": [\"5\", \"$\", \"§\"],\n",
    "        \"T\": [\"7\", \"-|-\"],\n",
    "        \"U\": [\"µ\"],\n",
    "        \"V\": [\"√\"],\n",
    "        \"W\": [\"ω\", \"\\^/\"],\n",
    "        \"X\": [\"Ж\", \"×\"],\n",
    "        \"Y\": [\"¥\", \"γ\"],\n",
    "        \"Z\": [\"%\"]\n",
    "    }\n",
    "}\n",
    "```"
   ]
  },
  {
   "cell_type": "markdown",
   "metadata": {},
   "source": [
    "The encoding and decoding sequence is as follows:\n",
    "\n",
    "```mermaid\n",
    "graph TB\n",
    "    Original([\"Original text\"])\n",
    "    AddSuffix[\"Add suffix '-zorz' to emphasize\"]\n",
    "    EncodeWord[\"Encode words to leet speak\"]\n",
    "    EncodeLetter[\"Encode letters to leet speak\"]\n",
    "    LeetSpeak([\"Leet speak text\"])\n",
    "    DecodeLetter[\"Decode letters from leet speak\"]\n",
    "    DecodeWord[\"Decode words from leet speak\"]\n",
    "    RemoveSuffix[\"Remove suffix '-zorz'\"]\n",
    "    Original2([\"Original text\"])\n",
    "\n",
    "    Original --> AddSuffix\n",
    "    AddSuffix --> EncodeWord\n",
    "    EncodeWord --> EncodeLetter\n",
    "    EncodeLetter --> LeetSpeak\n",
    "    LeetSpeak --> DecodeLetter\n",
    "    DecodeLetter --> DecodeWord\n",
    "    DecodeWord --> RemoveSuffix\n",
    "    RemoveSuffix --> Original2\n",
    "```"
   ]
  },
  {
   "cell_type": "markdown",
   "metadata": {},
   "source": [
    "##### Task 3.1\n",
    "\n",
    "Write a Python function `check_prefix_free_3()` similar to Task 2.1 that checks if the JSON file specifies a prefix-free code for both words and letters."
   ]
  },
  {
   "cell_type": "markdown",
   "metadata": {},
   "source": [
    "```python\n",
    "def check_prefix_free_3(json_file):\n",
    "    \"\"\"\n",
    "    Check if the JSON file specifies a prefix-free code for both words and letters\n",
    "    IN: json_file, str, JSON file name\n",
    "    OUT: dict or None, dictionary of characters mapping to leet speak or None if not prefix-free\n",
    "    \"\"\"\n",
    "    pass\n",
    "```"
   ]
  },
  {
   "cell_type": "markdown",
   "metadata": {},
   "source": [
    "##### Task 3.2"
   ]
  },
  {
   "cell_type": "markdown",
   "metadata": {},
   "source": [
    "Write a Python function `add_emphasis_3()` that takes a string and a list of important words as input and emphasizes the important words in the string by adding the suffix \"-zorz\"."
   ]
  },
  {
   "cell_type": "markdown",
   "metadata": {},
   "source": [
    "```python\n",
    "def add_emphasis_3(text, important_words):\n",
    "    \"\"\"\n",
    "    Add emphasis to important words by adding the suffix '-zorz'\n",
    "    IN: text, str, input text\n",
    "        important_words, list[str], list of important words\n",
    "    OUT: str, text with emphasized words\n",
    "    \"\"\"\n",
    "    pass\n",
    "```"
   ]
  },
  {
   "cell_type": "markdown",
   "metadata": {},
   "source": [
    "##### Task 3.3"
   ]
  },
  {
   "cell_type": "markdown",
   "metadata": {},
   "source": [
    "Write a Python function `encode_partially_words_3()` that takes a string and a number `p` between `0` and `1` as input and encodes words to leet speak with probability `p` using the user-defined mapping."
   ]
  },
  {
   "cell_type": "markdown",
   "metadata": {},
   "source": [
    "```python\n",
    "def encode_partially_words_3(text, p, mapping):\n",
    "    \"\"\"\n",
    "    Encode words to leet speak with probability p using the user-defined mapping\n",
    "    IN: text, str, input text\n",
    "        p, float, probability of encoding\n",
    "        mapping, dict, user-defined mapping\n",
    "    OUT: str, partially encoded text\n",
    "    \"\"\"\n",
    "    pass\n",
    "```\n",
    "\n",
    "Or, you can create a constructor for `encode_partially_words_3()` that takes the mapping as an argument:\n",
    "\n",
    "```python\n",
    "def encode_partially_words_3(mapping):\n",
    "    \"\"\"\n",
    "    Constructor for encoding words to leet speak with probability p using the user-defined mapping\n",
    "    IN: mapping, dict, user-defined mapping\n",
    "    OUT: function, (text: str, p: float) -> str, encode words to leet speak with probability p\n",
    "    \"\"\"\n",
    "    # define the encoding function using the mapping\n",
    "    def encode_partially_words_3(text, p):\n",
    "        \"\"\"\n",
    "        Encode words to leet speak with probability p using the user-defined mapping\n",
    "        IN: text, str, input text\n",
    "            p, float, probability of encoding\n",
    "        OUT: str, partially encoded text\n",
    "        \"\"\"\n",
    "        # specify the encoding logic using the mapping\n",
    "        pass\n",
    "\n",
    "    # return the encoding function\n",
    "    return encode_partially_words_3\n",
    "```"
   ]
  },
  {
   "cell_type": "markdown",
   "metadata": {},
   "source": [
    "##### Task 3.4"
   ]
  },
  {
   "cell_type": "markdown",
   "metadata": {},
   "source": [
    "Write Python function `encode_partially_letters_3()` similar to Task 2.2 that encodes each Latin letter to leet speak with probability `p` using the user-defined mapping."
   ]
  },
  {
   "cell_type": "markdown",
   "metadata": {},
   "source": [
    "```python\n",
    "def encode_partially_letters_3(text, p, mapping):\n",
    "    \"\"\"\n",
    "    Encode each Latin letter to leet speak with probability p using the user-defined mapping\n",
    "    IN: text, str, input text\n",
    "        p, float, probability of encoding\n",
    "        mapping, dict, user-defined mapping\n",
    "    OUT: str, partially encoded text\n",
    "    \"\"\"\n",
    "    pass\n",
    "```\n",
    "\n",
    "Or, you can create a constructor for `encode_partially_letters_3()` that takes the mapping as an argument:\n",
    "\n",
    "```python\n",
    "def encode_partially_letters_3(mapping):\n",
    "    \"\"\"\n",
    "    Constructor for encoding each Latin letter to leet speak with probability p using the user-defined mapping\n",
    "    IN: mapping, dict, user-defined mapping\n",
    "    OUT: function, (text: str, p: float) -> str, encode latin letters to leet speak with probability p\n",
    "    \"\"\"\n",
    "    # define the encoding function using the mapping\n",
    "    def encode_partially_letters_3(text, p):\n",
    "        \"\"\"\n",
    "        Encode each Latin letter to leet speak with probability p using the user-defined mapping\n",
    "        IN: text, str, input text\n",
    "            p, float, probability of encoding\n",
    "        OUT: str, partially encoded text\n",
    "        \"\"\"\n",
    "        # specify the encoding logic using the mapping\n",
    "        pass\n",
    "\n",
    "    # return the encoding function\n",
    "    return encode_partially_letters_3\n",
    "```"
   ]
  },
  {
   "cell_type": "markdown",
   "metadata": {},
   "source": [
    "##### Task 3.5"
   ]
  },
  {
   "cell_type": "markdown",
   "metadata": {},
   "source": [
    "Write a Python function `decode_partially_words_3()` to reverse the operation of `encode_partially_words_3()` using the user-defined mapping."
   ]
  },
  {
   "cell_type": "markdown",
   "metadata": {},
   "source": [
    "```python\n",
    "def decode_partially_words_3(text, mapping):\n",
    "    \"\"\"\n",
    "    Decode words from leet speak using the user-defined mapping\n",
    "    IN: text, str, partially encoded text\n",
    "        mapping, dict, user-defined mapping\n",
    "    OUT: str, partially decoded text\n",
    "    \"\"\"\n",
    "    pass\n",
    "```\n",
    "\n",
    "Or, you can create a constructor for `decode_partially_words_3()` that takes the mapping as an argument:\n",
    "\n",
    "```python\n",
    "def decode_partially_words_3(mapping):\n",
    "    \"\"\"\n",
    "    Constructor for decoding words from leet speak using the user-defined mapping\n",
    "    IN: mapping, dict, user-defined mapping\n",
    "    OUT: function, (text: str) -> str, decode words from leet speak\n",
    "    \"\"\"\n",
    "    # define the decoding function using the mapping\n",
    "    def decode_partially_words_3(text):\n",
    "        \"\"\"\n",
    "        Decode words from leet speak using the user-defined mapping\n",
    "        IN: text, str, partially encoded text\n",
    "        OUT: str, partially decoded text\n",
    "        \"\"\"\n",
    "        # specify the decoding logic using the mapping\n",
    "        pass\n",
    "\n",
    "    # return the decoding function\n",
    "    return decode_partially_words_3\n",
    "```"
   ]
  },
  {
   "cell_type": "markdown",
   "metadata": {},
   "source": [
    "##### Task 3.6"
   ]
  },
  {
   "cell_type": "markdown",
   "metadata": {},
   "source": [
    "Write a Python function `decode_partially_letters_3()` to reverse the operation of `encode_partially_letters_3()` using the user-defined mapping."
   ]
  },
  {
   "cell_type": "markdown",
   "metadata": {},
   "source": [
    "```python\n",
    "def decode_partially_letters_3(text, mapping):\n",
    "    \"\"\"\n",
    "    Decode each Latin letter from leet speak using the user-defined mapping\n",
    "    IN: text, str, partially encoded text\n",
    "        mapping, dict, user-defined mapping\n",
    "    OUT: str, partially decoded text\n",
    "    \"\"\"\n",
    "    pass\n",
    "```\n",
    "\n",
    "Or, you can create a constructor for `decode_partially_letters_3()` that takes the mapping as an argument:\n",
    "\n",
    "```python\n",
    "def decode_partially_letters_3(mapping):\n",
    "    \"\"\"\n",
    "    Constructor for decoding each Latin letter from leet speak using the user-defined mapping\n",
    "    IN: mapping, dict, user-defined mapping\n",
    "    OUT: function, (text: str) -> str, decode latin letters from leet speak\n",
    "    \"\"\"\n",
    "    # define the decoding function using the mapping\n",
    "    def decode_partially_letters_3(text):\n",
    "        \"\"\"\n",
    "        Decode each Latin letter from leet speak using the user-defined mapping\n",
    "        IN: text, str, partially encoded text\n",
    "        OUT: str, partially decoded text\n",
    "        \"\"\"\n",
    "        # specify the decoding logic using the mapping\n",
    "        pass\n",
    "\n",
    "    # return the decoding function\n",
    "    return decode_partially_letters_3\n",
    "```"
   ]
  },
  {
   "cell_type": "markdown",
   "metadata": {},
   "source": [
    "##### Task 3.7"
   ]
  },
  {
   "cell_type": "markdown",
   "metadata": {},
   "source": [
    "Write a Python function `remove_emphasis_3()` that takes a string and removes the suffix \"-zorz\" from words."
   ]
  },
  {
   "cell_type": "markdown",
   "metadata": {},
   "source": [
    "```python\n",
    "def remove_emphasis_3(text):\n",
    "    \"\"\"\n",
    "    Remove the suffix '-zorz' from words\n",
    "    IN: text, str, input text\n",
    "    OUT: str, text with emphasized suffix `-zorz` removed\n",
    "    \"\"\"\n",
    "    pass\n",
    "```\n"
   ]
  },
  {
   "cell_type": "markdown",
   "metadata": {},
   "source": [
    "### References"
   ]
  },
  {
   "cell_type": "markdown",
   "metadata": {},
   "source": [
    "> - Blashki, Katherine; Nichol, Sophie (2005). \"Game Geek's Goss: Linguistic Creativity In Young Males Within An Online University Forum\" (PDF). Australian Journal of Emerging Technologies and Society. 3 (2): 77–86.\n",
    "> - LeBlanc, Tracy Rene (May 2005). \"Is There A Translator in Teh House?\": Cultural and Discourse Analysis of a Virtual Speech Community on an Internet Message Board (MA thesis). Louisiana State University. doi:10.31390/gradschool_theses.4112\n",
    "> - Perea, M.; Duñabeitia, J. A.; Carreiras, M. (2008). \"R34D1Ng W0Rd5 W1Th Numb3R5\" (PDF). Journal of Experimental Psychology: Human Perception and Performance. 34 (1): 237–241. doi:10.1037/0096-1523.34.1.237. ISSN 0096-1523. PMID 18248151. S2CID 6054151\n",
    "> - Raymond, Eric R.; Steele, Guy L. (1996). The New Hacker's Dictionary. MIT Press. ISBN 978-0-262-68092-9."
   ]
  }
 ],
 "metadata": {
  "language_info": {
   "name": "python"
  }
 },
 "nbformat": 4,
 "nbformat_minor": 2
}
