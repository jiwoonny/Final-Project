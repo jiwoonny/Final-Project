{
 "cells": [
  {
   "cell_type": "code",
   "execution_count": 3,
   "metadata": {},
   "outputs": [],
   "source": [
    "import re\n",
    "import random\n",
    "import json"
   ]
  },
  {
   "cell_type": "markdown",
   "metadata": {},
   "source": [
    "#### Level 1"
   ]
  },
  {
   "cell_type": "markdown",
   "metadata": {},
   "source": [
    "##### Task 1.1"
   ]
  },
  {
   "cell_type": "code",
   "execution_count": 4,
   "metadata": {},
   "outputs": [],
   "source": [
    "def encode_all_1(text):\n",
    "    \"\"\"\n",
    "    Encode all Latin letters to leet speak\n",
    "    IN: text, str, input text\n",
    "    OUT: str, leet speak text\n",
    "    \"\"\"\n",
    "    leet_mapping = {\n",
    "        'A': '4', 'B': '8', 'C': '(', 'D': ')', 'E': '3', 'F': 'ƒ',\n",
    "        'G': '6', 'H': '#', 'I': '!', 'J': ']', 'K': '|', 'L': '1',\n",
    "        'M': 'м', 'N': 'и', 'O': 'Ø', 'P': '9', 'Q': '2', 'R': 'Я',\n",
    "        'S': '5', 'T': '7', 'U': 'µ', 'V': '√', 'W': 'ω', 'X': 'Ж',\n",
    "        'Y': '¥', 'Z': '%'\n",
    "    }\n",
    "\n",
    "    encoded_text = ''\n",
    "    for char in text:\n",
    "        if char.upper() in leet_mapping:  # Check if the character is in the mapping\n",
    "            encoded_char = leet_mapping[char.upper()]\n",
    "            encoded_text += encoded_char\n",
    "        else:\n",
    "            encoded_text += char #leave the character as is; applies to spaces mostly\n",
    "    \n",
    "    return encoded_text"
   ]
  },
  {
   "cell_type": "markdown",
   "metadata": {},
   "source": [
    "##### Task 1.2"
   ]
  },
  {
   "cell_type": "code",
   "execution_count": 5,
   "metadata": {},
   "outputs": [],
   "source": [
    "def decode_all_1(text):\n",
    "    \"\"\"\n",
    "    Decode all leet speak to Latin letters\n",
    "    IN: text, str, leet speak text\n",
    "    OUT: str, Latin letters text\n",
    "    \"\"\"\n",
    "    leet_mapping = {\n",
    "        'A': '4', 'B': '8', 'C': '(', 'D': ')', 'E': '3', 'F': 'ƒ',\n",
    "        'G': '6', 'H': '#', 'I': '!', 'J': ']', 'K': '|', 'L': '1',\n",
    "        'M': 'м', 'N': 'и', 'O': 'Ø', 'P': '9', 'Q': '2', 'R': 'Я',\n",
    "        'S': '5', 'T': '7', 'U': 'µ', 'V': '√', 'W': 'ω', 'X': 'Ж',\n",
    "        'Y': '¥', 'Z': '%'\n",
    "    }\n",
    "    \n",
    "    # Reverse the dictionary for decoding\n",
    "    reverse_mapping = {value: key for key, value in leet_mapping.items()}\n",
    "    \n",
    "    decoded_text = ''\n",
    "    \n",
    "    for char in text:\n",
    "        if char in reverse_mapping:  # Check if the character is in the reverse mapping\n",
    "            decoded_char = reverse_mapping[char]\n",
    "            decoded_text += decoded_char\n",
    "        else:\n",
    "            decoded_text += char #leave the character as is; applies to spaces mostly\n",
    "    return decoded_text\n"
   ]
  },
  {
   "cell_type": "markdown",
   "metadata": {},
   "source": [
    "##### Task 1.3"
   ]
  },
  {
   "cell_type": "code",
   "execution_count": 6,
   "metadata": {},
   "outputs": [],
   "source": [
    "def encode_partially_1(text, p):\n",
    "    \"\"\"\n",
    "    Encode each Latin letter to leet speak with probability p\n",
    "    IN: text, str, input text\n",
    "        p, float, probability of encoding\n",
    "    OUT: str, partially encoded text\n",
    "    \"\"\"\n",
    "    leet_mapping = {\n",
    "        'A': '4', 'B': '8', 'C': '(', 'D': ')', 'E': '3', 'F': 'ƒ',\n",
    "        'G': '6', 'H': '#', 'I': '!', 'J': ']', 'K': '|', 'L': '1',\n",
    "        'M': 'м', 'N': 'и', 'O': 'Ø', 'P': '9', 'Q': '2', 'R': 'Я',\n",
    "        'S': '5', 'T': '7', 'U': 'µ', 'V': '√', 'W': 'ω', 'X': 'Ж',\n",
    "        'Y': '¥', 'Z': '%'\n",
    "    }\n",
    "    \n",
    "    partially_encoded_text = ''\n",
    "    \n",
    "    for char in text:\n",
    "        if char.upper() in leet_mapping and random.random() < p: #a number less than p will represent the probability\n",
    "            encoded_char = leet_mapping[char.upper()]\n",
    "            partially_encoded_text += encoded_char\n",
    "        else:\n",
    "            partially_encoded_text += char #keep the character encoded if random.random() > p OR for spaces\n",
    "    \n",
    "    return partially_encoded_text\n"
   ]
  },
  {
   "cell_type": "markdown",
   "metadata": {},
   "source": [
    "##### Task 1.4"
   ]
  },
  {
   "cell_type": "code",
   "execution_count": 7,
   "metadata": {},
   "outputs": [],
   "source": [
    "def decode_partially_1(text):\n",
    "    \"\"\"\n",
    "    Decode each Latin letter from leet speak\n",
    "    IN: text, str, partially encoded text\n",
    "    OUT: str, partially decoded text\n",
    "    \"\"\"\n",
    "    leet_mapping = {\n",
    "        'A': '4', 'B': '8', 'C': '(', 'D': ')', 'E': '3', 'F': 'ƒ',\n",
    "        'G': '6', 'H': '#', 'I': '!', 'J': ']', 'K': '|', 'L': '1',\n",
    "        'M': 'м', 'N': 'и', 'O': 'Ø', 'P': '9', 'Q': '2', 'R': 'Я',\n",
    "        'S': '5', 'T': '7', 'U': 'µ', 'V': '√', 'W': 'ω', 'X': 'Ж',\n",
    "        'Y': '¥', 'Z': '%'\n",
    "    }\n",
    "\n",
    "    # Reverse the dictionary for decoding\n",
    "    reverse_mapping = {value: key for key, value in leet_mapping.items()}\n",
    "    \n",
    "    partially_decoded_text = ''\n",
    "    \n",
    "    for char in text:\n",
    "        if char in reverse_mapping:\n",
    "            decoded_char = reverse_mapping[char]\n",
    "            partially_decoded_text += decoded_char\n",
    "        else:\n",
    "            partially_decoded_text += char #for spaces OR if the text wasn't encoded\n",
    "    \n",
    "    return partially_decoded_text"
   ]
  },
  {
   "cell_type": "markdown",
   "metadata": {},
   "source": [
    "#### Level 2"
   ]
  },
  {
   "cell_type": "markdown",
   "metadata": {},
   "source": [
    "#### Task 2.1"
   ]
  },
  {
   "cell_type": "code",
   "execution_count": null,
   "metadata": {},
   "outputs": [],
   "source": [
    "\n",
    "def check_prefix_free_2(json_file):\n",
    "    \"\"\"\n",
    "    Check if the JSON file specifies a prefix-free code\n",
    "    IN: json_file, str, JSON file name\n",
    "    OUT: dict or None, dictionary of characters mapping to leet speak or None if not prefix-free\n",
    "    \"\"\"\n",
    "    # Open and read the JSON file\n",
    "    with open(json_file, 'r') as f:\n",
    "            data = json.load(f)\n",
    "        \n",
    "    # Flatten the mapping\n",
    "    codewords = []\n",
    "    for key, code_list in data.items():\n",
    "        codewords.extend(code_list)\n",
    "        \n",
    "    # Check whether or not it is prefix-free \n",
    "    for i, codeword in enumerate(codewords):\n",
    "        for j, other_codeword in enumerate(codewords):\n",
    "            if i != j and re.match(f'^{re.escape(codeword)}', other_codeword): #.escpae() escapes treats special characters as literals\n",
    "                return None #since the characters match, the codewords are not prefix free\n",
    "        \n",
    "    # If prefix-free, return the dictionary\n",
    "    return data\n",
    "    "
   ]
  },
  {
   "cell_type": "code",
   "execution_count": null,
   "metadata": {},
   "outputs": [
    {
     "name": "stdout",
     "output_type": "stream",
     "text": [
      "\n",
      "Original English: HELLO HOW ARE YOU DOING\n",
      "\n",
      "Encoded Text: #311Ø #Øω 4Я3 ¥Øµ )Ø!и6\n",
      "Decoded Text: HELLO HOW ARE YOU DOING\n",
      "\n",
      "Partially Encoded Text: H3LLØ #ØW AR3 YOU DOIиG\n",
      "Paritally Decoded Text: HELLO HOW ARE YOU DOING\n",
      "{'A': ['4', '@', 'Д'], 'B': ['8', 'ß'], 'C': ['(', '<', '©', '¢'], 'D': [')', '>'], 'E': ['3', '£'], 'F': ['ƒ'], 'G': ['6', '&'], 'H': ['#', '|-|'], 'I': ['!'], 'J': [']', '_|'], 'K': ['|<'], 'L': ['1', '|_'], 'M': ['м', '|/|'], 'N': ['и', '|\\\\|'], 'O': ['Ø'], 'P': ['9', '|°'], 'Q': ['2'], 'R': ['Я', '|~'], 'S': ['5', '$', '§'], 'T': ['7', '-|-'], 'U': ['µ'], 'V': ['√'], 'W': ['ω', '\\\\^/'], 'X': ['Ж', '×'], 'Y': ['¥', 'γ'], 'Z': ['%']}\n"
     ]
    }
   ],
   "source": [
    "if __name__ == \"__main__\":\n",
    "    english_text = \"HELLO HOW ARE YOU DOING\"\n",
    "    print(f\"\\nOriginal English: {english_text}\\n\")\n",
    "    \n",
    "    #task 1.1 & 1.2\n",
    "    leet_text = encode_all_1(english_text)\n",
    "    print(f\"Encoded Text: {leet_text}\")\n",
    "    print(f\"Decoded Text: {decode_all_1(leet_text)}\\n\")\n",
    "\n",
    "    #task 1.3 & 1.4\n",
    "    partially_encoded_text = encode_partially_1(english_text, 0.5)\n",
    "    print(f\"Partially Encoded Text: {partially_encoded_text}\")\n",
    "    print(f\"Paritally Decoded Text: {decode_partially_1(partially_encoded_text)}\")\n",
    "\n",
    "    #task 2.1\n",
    "    print(check_prefix_free_2(\"testjson.json\"))"
   ]
  }
 ],
 "metadata": {
  "kernelspec": {
   "display_name": "Python 3",
   "language": "python",
   "name": "python3"
  },
  "language_info": {
   "codemirror_mode": {
    "name": "ipython",
    "version": 3
   },
   "file_extension": ".py",
   "mimetype": "text/x-python",
   "name": "python",
   "nbconvert_exporter": "python",
   "pygments_lexer": "ipython3",
   "version": "3.12.5"
  }
 },
 "nbformat": 4,
 "nbformat_minor": 2
}
